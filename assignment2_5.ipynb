{
  "nbformat": 4,
  "nbformat_minor": 0,
  "metadata": {
    "colab": {
      "provenance": [],
      "authorship_tag": "ABX9TyPjw51Iy9fmJ5f2p8Wi04Yz",
      "include_colab_link": true
    },
    "kernelspec": {
      "name": "python3",
      "display_name": "Python 3"
    },
    "language_info": {
      "name": "python"
    },
    "widgets": {
      "application/vnd.jupyter.widget-state+json": {
        "101ec3e5bc1b4cd2892f60f58fe118ba": {
          "model_module": "@jupyter-widgets/controls",
          "model_name": "HBoxModel",
          "model_module_version": "1.5.0",
          "state": {
            "_dom_classes": [],
            "_model_module": "@jupyter-widgets/controls",
            "_model_module_version": "1.5.0",
            "_model_name": "HBoxModel",
            "_view_count": null,
            "_view_module": "@jupyter-widgets/controls",
            "_view_module_version": "1.5.0",
            "_view_name": "HBoxView",
            "box_style": "",
            "children": [
              "IPY_MODEL_4312e60b43a4484aa97f74f00bab51de",
              "IPY_MODEL_4b2768bc972f4020b3f853d6a047e9bb",
              "IPY_MODEL_f343b991cbcd4e0db2c6c88ab5ca9b8e"
            ],
            "layout": "IPY_MODEL_2b74fec91e7c431caea3c020789e99f3"
          }
        },
        "4312e60b43a4484aa97f74f00bab51de": {
          "model_module": "@jupyter-widgets/controls",
          "model_name": "HTMLModel",
          "model_module_version": "1.5.0",
          "state": {
            "_dom_classes": [],
            "_model_module": "@jupyter-widgets/controls",
            "_model_module_version": "1.5.0",
            "_model_name": "HTMLModel",
            "_view_count": null,
            "_view_module": "@jupyter-widgets/controls",
            "_view_module_version": "1.5.0",
            "_view_name": "HTMLView",
            "description": "",
            "description_tooltip": null,
            "layout": "IPY_MODEL_138c129512e44b0ea3c40faf8d276a66",
            "placeholder": "​",
            "style": "IPY_MODEL_cfb54d97ff4646708ca2ddb83fe10aea",
            "value": "100%"
          }
        },
        "4b2768bc972f4020b3f853d6a047e9bb": {
          "model_module": "@jupyter-widgets/controls",
          "model_name": "FloatProgressModel",
          "model_module_version": "1.5.0",
          "state": {
            "_dom_classes": [],
            "_model_module": "@jupyter-widgets/controls",
            "_model_module_version": "1.5.0",
            "_model_name": "FloatProgressModel",
            "_view_count": null,
            "_view_module": "@jupyter-widgets/controls",
            "_view_module_version": "1.5.0",
            "_view_name": "ProgressView",
            "bar_style": "success",
            "description": "",
            "description_tooltip": null,
            "layout": "IPY_MODEL_bbd26f2ceb7d4437841edff6efa5e304",
            "max": 9912422,
            "min": 0,
            "orientation": "horizontal",
            "style": "IPY_MODEL_c5e2d92a4d084b96af5a0dfb021ffc89",
            "value": 9912422
          }
        },
        "f343b991cbcd4e0db2c6c88ab5ca9b8e": {
          "model_module": "@jupyter-widgets/controls",
          "model_name": "HTMLModel",
          "model_module_version": "1.5.0",
          "state": {
            "_dom_classes": [],
            "_model_module": "@jupyter-widgets/controls",
            "_model_module_version": "1.5.0",
            "_model_name": "HTMLModel",
            "_view_count": null,
            "_view_module": "@jupyter-widgets/controls",
            "_view_module_version": "1.5.0",
            "_view_name": "HTMLView",
            "description": "",
            "description_tooltip": null,
            "layout": "IPY_MODEL_b62b675c7e7c4acc86ab9f2c2ef8910f",
            "placeholder": "​",
            "style": "IPY_MODEL_da13fc56689f4a238bc2d905eb6b4098",
            "value": " 9912422/9912422 [00:00&lt;00:00, 16322877.32it/s]"
          }
        },
        "2b74fec91e7c431caea3c020789e99f3": {
          "model_module": "@jupyter-widgets/base",
          "model_name": "LayoutModel",
          "model_module_version": "1.2.0",
          "state": {
            "_model_module": "@jupyter-widgets/base",
            "_model_module_version": "1.2.0",
            "_model_name": "LayoutModel",
            "_view_count": null,
            "_view_module": "@jupyter-widgets/base",
            "_view_module_version": "1.2.0",
            "_view_name": "LayoutView",
            "align_content": null,
            "align_items": null,
            "align_self": null,
            "border": null,
            "bottom": null,
            "display": null,
            "flex": null,
            "flex_flow": null,
            "grid_area": null,
            "grid_auto_columns": null,
            "grid_auto_flow": null,
            "grid_auto_rows": null,
            "grid_column": null,
            "grid_gap": null,
            "grid_row": null,
            "grid_template_areas": null,
            "grid_template_columns": null,
            "grid_template_rows": null,
            "height": null,
            "justify_content": null,
            "justify_items": null,
            "left": null,
            "margin": null,
            "max_height": null,
            "max_width": null,
            "min_height": null,
            "min_width": null,
            "object_fit": null,
            "object_position": null,
            "order": null,
            "overflow": null,
            "overflow_x": null,
            "overflow_y": null,
            "padding": null,
            "right": null,
            "top": null,
            "visibility": null,
            "width": null
          }
        },
        "138c129512e44b0ea3c40faf8d276a66": {
          "model_module": "@jupyter-widgets/base",
          "model_name": "LayoutModel",
          "model_module_version": "1.2.0",
          "state": {
            "_model_module": "@jupyter-widgets/base",
            "_model_module_version": "1.2.0",
            "_model_name": "LayoutModel",
            "_view_count": null,
            "_view_module": "@jupyter-widgets/base",
            "_view_module_version": "1.2.0",
            "_view_name": "LayoutView",
            "align_content": null,
            "align_items": null,
            "align_self": null,
            "border": null,
            "bottom": null,
            "display": null,
            "flex": null,
            "flex_flow": null,
            "grid_area": null,
            "grid_auto_columns": null,
            "grid_auto_flow": null,
            "grid_auto_rows": null,
            "grid_column": null,
            "grid_gap": null,
            "grid_row": null,
            "grid_template_areas": null,
            "grid_template_columns": null,
            "grid_template_rows": null,
            "height": null,
            "justify_content": null,
            "justify_items": null,
            "left": null,
            "margin": null,
            "max_height": null,
            "max_width": null,
            "min_height": null,
            "min_width": null,
            "object_fit": null,
            "object_position": null,
            "order": null,
            "overflow": null,
            "overflow_x": null,
            "overflow_y": null,
            "padding": null,
            "right": null,
            "top": null,
            "visibility": null,
            "width": null
          }
        },
        "cfb54d97ff4646708ca2ddb83fe10aea": {
          "model_module": "@jupyter-widgets/controls",
          "model_name": "DescriptionStyleModel",
          "model_module_version": "1.5.0",
          "state": {
            "_model_module": "@jupyter-widgets/controls",
            "_model_module_version": "1.5.0",
            "_model_name": "DescriptionStyleModel",
            "_view_count": null,
            "_view_module": "@jupyter-widgets/base",
            "_view_module_version": "1.2.0",
            "_view_name": "StyleView",
            "description_width": ""
          }
        },
        "bbd26f2ceb7d4437841edff6efa5e304": {
          "model_module": "@jupyter-widgets/base",
          "model_name": "LayoutModel",
          "model_module_version": "1.2.0",
          "state": {
            "_model_module": "@jupyter-widgets/base",
            "_model_module_version": "1.2.0",
            "_model_name": "LayoutModel",
            "_view_count": null,
            "_view_module": "@jupyter-widgets/base",
            "_view_module_version": "1.2.0",
            "_view_name": "LayoutView",
            "align_content": null,
            "align_items": null,
            "align_self": null,
            "border": null,
            "bottom": null,
            "display": null,
            "flex": null,
            "flex_flow": null,
            "grid_area": null,
            "grid_auto_columns": null,
            "grid_auto_flow": null,
            "grid_auto_rows": null,
            "grid_column": null,
            "grid_gap": null,
            "grid_row": null,
            "grid_template_areas": null,
            "grid_template_columns": null,
            "grid_template_rows": null,
            "height": null,
            "justify_content": null,
            "justify_items": null,
            "left": null,
            "margin": null,
            "max_height": null,
            "max_width": null,
            "min_height": null,
            "min_width": null,
            "object_fit": null,
            "object_position": null,
            "order": null,
            "overflow": null,
            "overflow_x": null,
            "overflow_y": null,
            "padding": null,
            "right": null,
            "top": null,
            "visibility": null,
            "width": null
          }
        },
        "c5e2d92a4d084b96af5a0dfb021ffc89": {
          "model_module": "@jupyter-widgets/controls",
          "model_name": "ProgressStyleModel",
          "model_module_version": "1.5.0",
          "state": {
            "_model_module": "@jupyter-widgets/controls",
            "_model_module_version": "1.5.0",
            "_model_name": "ProgressStyleModel",
            "_view_count": null,
            "_view_module": "@jupyter-widgets/base",
            "_view_module_version": "1.2.0",
            "_view_name": "StyleView",
            "bar_color": null,
            "description_width": ""
          }
        },
        "b62b675c7e7c4acc86ab9f2c2ef8910f": {
          "model_module": "@jupyter-widgets/base",
          "model_name": "LayoutModel",
          "model_module_version": "1.2.0",
          "state": {
            "_model_module": "@jupyter-widgets/base",
            "_model_module_version": "1.2.0",
            "_model_name": "LayoutModel",
            "_view_count": null,
            "_view_module": "@jupyter-widgets/base",
            "_view_module_version": "1.2.0",
            "_view_name": "LayoutView",
            "align_content": null,
            "align_items": null,
            "align_self": null,
            "border": null,
            "bottom": null,
            "display": null,
            "flex": null,
            "flex_flow": null,
            "grid_area": null,
            "grid_auto_columns": null,
            "grid_auto_flow": null,
            "grid_auto_rows": null,
            "grid_column": null,
            "grid_gap": null,
            "grid_row": null,
            "grid_template_areas": null,
            "grid_template_columns": null,
            "grid_template_rows": null,
            "height": null,
            "justify_content": null,
            "justify_items": null,
            "left": null,
            "margin": null,
            "max_height": null,
            "max_width": null,
            "min_height": null,
            "min_width": null,
            "object_fit": null,
            "object_position": null,
            "order": null,
            "overflow": null,
            "overflow_x": null,
            "overflow_y": null,
            "padding": null,
            "right": null,
            "top": null,
            "visibility": null,
            "width": null
          }
        },
        "da13fc56689f4a238bc2d905eb6b4098": {
          "model_module": "@jupyter-widgets/controls",
          "model_name": "DescriptionStyleModel",
          "model_module_version": "1.5.0",
          "state": {
            "_model_module": "@jupyter-widgets/controls",
            "_model_module_version": "1.5.0",
            "_model_name": "DescriptionStyleModel",
            "_view_count": null,
            "_view_module": "@jupyter-widgets/base",
            "_view_module_version": "1.2.0",
            "_view_name": "StyleView",
            "description_width": ""
          }
        },
        "3ee098bf37164476873c6a9f629d5568": {
          "model_module": "@jupyter-widgets/controls",
          "model_name": "HBoxModel",
          "model_module_version": "1.5.0",
          "state": {
            "_dom_classes": [],
            "_model_module": "@jupyter-widgets/controls",
            "_model_module_version": "1.5.0",
            "_model_name": "HBoxModel",
            "_view_count": null,
            "_view_module": "@jupyter-widgets/controls",
            "_view_module_version": "1.5.0",
            "_view_name": "HBoxView",
            "box_style": "",
            "children": [
              "IPY_MODEL_16ec7ffb54974e0f85100d1866d981b2",
              "IPY_MODEL_9a92d2ed21364912b7e137cb459f8ad2",
              "IPY_MODEL_22331fe7360b471597aa1ad724ca7f23"
            ],
            "layout": "IPY_MODEL_596fdb5e41024bba85a2432b6c9ed66c"
          }
        },
        "16ec7ffb54974e0f85100d1866d981b2": {
          "model_module": "@jupyter-widgets/controls",
          "model_name": "HTMLModel",
          "model_module_version": "1.5.0",
          "state": {
            "_dom_classes": [],
            "_model_module": "@jupyter-widgets/controls",
            "_model_module_version": "1.5.0",
            "_model_name": "HTMLModel",
            "_view_count": null,
            "_view_module": "@jupyter-widgets/controls",
            "_view_module_version": "1.5.0",
            "_view_name": "HTMLView",
            "description": "",
            "description_tooltip": null,
            "layout": "IPY_MODEL_bc81b2533a574acf9d9977af180fa87c",
            "placeholder": "​",
            "style": "IPY_MODEL_aebaf2f0a41d457ba1837b68d2fb3d7e",
            "value": "100%"
          }
        },
        "9a92d2ed21364912b7e137cb459f8ad2": {
          "model_module": "@jupyter-widgets/controls",
          "model_name": "FloatProgressModel",
          "model_module_version": "1.5.0",
          "state": {
            "_dom_classes": [],
            "_model_module": "@jupyter-widgets/controls",
            "_model_module_version": "1.5.0",
            "_model_name": "FloatProgressModel",
            "_view_count": null,
            "_view_module": "@jupyter-widgets/controls",
            "_view_module_version": "1.5.0",
            "_view_name": "ProgressView",
            "bar_style": "success",
            "description": "",
            "description_tooltip": null,
            "layout": "IPY_MODEL_9b4020b37c4f413f88ca3aa17bbc3365",
            "max": 28881,
            "min": 0,
            "orientation": "horizontal",
            "style": "IPY_MODEL_38ff9df6dfea408fabfbdb35f2eca999",
            "value": 28881
          }
        },
        "22331fe7360b471597aa1ad724ca7f23": {
          "model_module": "@jupyter-widgets/controls",
          "model_name": "HTMLModel",
          "model_module_version": "1.5.0",
          "state": {
            "_dom_classes": [],
            "_model_module": "@jupyter-widgets/controls",
            "_model_module_version": "1.5.0",
            "_model_name": "HTMLModel",
            "_view_count": null,
            "_view_module": "@jupyter-widgets/controls",
            "_view_module_version": "1.5.0",
            "_view_name": "HTMLView",
            "description": "",
            "description_tooltip": null,
            "layout": "IPY_MODEL_f9792a0811d9457e90d4ad586169bd24",
            "placeholder": "​",
            "style": "IPY_MODEL_30781f2f36e8433dbd936107cec5411b",
            "value": " 28881/28881 [00:00&lt;00:00, 369912.74it/s]"
          }
        },
        "596fdb5e41024bba85a2432b6c9ed66c": {
          "model_module": "@jupyter-widgets/base",
          "model_name": "LayoutModel",
          "model_module_version": "1.2.0",
          "state": {
            "_model_module": "@jupyter-widgets/base",
            "_model_module_version": "1.2.0",
            "_model_name": "LayoutModel",
            "_view_count": null,
            "_view_module": "@jupyter-widgets/base",
            "_view_module_version": "1.2.0",
            "_view_name": "LayoutView",
            "align_content": null,
            "align_items": null,
            "align_self": null,
            "border": null,
            "bottom": null,
            "display": null,
            "flex": null,
            "flex_flow": null,
            "grid_area": null,
            "grid_auto_columns": null,
            "grid_auto_flow": null,
            "grid_auto_rows": null,
            "grid_column": null,
            "grid_gap": null,
            "grid_row": null,
            "grid_template_areas": null,
            "grid_template_columns": null,
            "grid_template_rows": null,
            "height": null,
            "justify_content": null,
            "justify_items": null,
            "left": null,
            "margin": null,
            "max_height": null,
            "max_width": null,
            "min_height": null,
            "min_width": null,
            "object_fit": null,
            "object_position": null,
            "order": null,
            "overflow": null,
            "overflow_x": null,
            "overflow_y": null,
            "padding": null,
            "right": null,
            "top": null,
            "visibility": null,
            "width": null
          }
        },
        "bc81b2533a574acf9d9977af180fa87c": {
          "model_module": "@jupyter-widgets/base",
          "model_name": "LayoutModel",
          "model_module_version": "1.2.0",
          "state": {
            "_model_module": "@jupyter-widgets/base",
            "_model_module_version": "1.2.0",
            "_model_name": "LayoutModel",
            "_view_count": null,
            "_view_module": "@jupyter-widgets/base",
            "_view_module_version": "1.2.0",
            "_view_name": "LayoutView",
            "align_content": null,
            "align_items": null,
            "align_self": null,
            "border": null,
            "bottom": null,
            "display": null,
            "flex": null,
            "flex_flow": null,
            "grid_area": null,
            "grid_auto_columns": null,
            "grid_auto_flow": null,
            "grid_auto_rows": null,
            "grid_column": null,
            "grid_gap": null,
            "grid_row": null,
            "grid_template_areas": null,
            "grid_template_columns": null,
            "grid_template_rows": null,
            "height": null,
            "justify_content": null,
            "justify_items": null,
            "left": null,
            "margin": null,
            "max_height": null,
            "max_width": null,
            "min_height": null,
            "min_width": null,
            "object_fit": null,
            "object_position": null,
            "order": null,
            "overflow": null,
            "overflow_x": null,
            "overflow_y": null,
            "padding": null,
            "right": null,
            "top": null,
            "visibility": null,
            "width": null
          }
        },
        "aebaf2f0a41d457ba1837b68d2fb3d7e": {
          "model_module": "@jupyter-widgets/controls",
          "model_name": "DescriptionStyleModel",
          "model_module_version": "1.5.0",
          "state": {
            "_model_module": "@jupyter-widgets/controls",
            "_model_module_version": "1.5.0",
            "_model_name": "DescriptionStyleModel",
            "_view_count": null,
            "_view_module": "@jupyter-widgets/base",
            "_view_module_version": "1.2.0",
            "_view_name": "StyleView",
            "description_width": ""
          }
        },
        "9b4020b37c4f413f88ca3aa17bbc3365": {
          "model_module": "@jupyter-widgets/base",
          "model_name": "LayoutModel",
          "model_module_version": "1.2.0",
          "state": {
            "_model_module": "@jupyter-widgets/base",
            "_model_module_version": "1.2.0",
            "_model_name": "LayoutModel",
            "_view_count": null,
            "_view_module": "@jupyter-widgets/base",
            "_view_module_version": "1.2.0",
            "_view_name": "LayoutView",
            "align_content": null,
            "align_items": null,
            "align_self": null,
            "border": null,
            "bottom": null,
            "display": null,
            "flex": null,
            "flex_flow": null,
            "grid_area": null,
            "grid_auto_columns": null,
            "grid_auto_flow": null,
            "grid_auto_rows": null,
            "grid_column": null,
            "grid_gap": null,
            "grid_row": null,
            "grid_template_areas": null,
            "grid_template_columns": null,
            "grid_template_rows": null,
            "height": null,
            "justify_content": null,
            "justify_items": null,
            "left": null,
            "margin": null,
            "max_height": null,
            "max_width": null,
            "min_height": null,
            "min_width": null,
            "object_fit": null,
            "object_position": null,
            "order": null,
            "overflow": null,
            "overflow_x": null,
            "overflow_y": null,
            "padding": null,
            "right": null,
            "top": null,
            "visibility": null,
            "width": null
          }
        },
        "38ff9df6dfea408fabfbdb35f2eca999": {
          "model_module": "@jupyter-widgets/controls",
          "model_name": "ProgressStyleModel",
          "model_module_version": "1.5.0",
          "state": {
            "_model_module": "@jupyter-widgets/controls",
            "_model_module_version": "1.5.0",
            "_model_name": "ProgressStyleModel",
            "_view_count": null,
            "_view_module": "@jupyter-widgets/base",
            "_view_module_version": "1.2.0",
            "_view_name": "StyleView",
            "bar_color": null,
            "description_width": ""
          }
        },
        "f9792a0811d9457e90d4ad586169bd24": {
          "model_module": "@jupyter-widgets/base",
          "model_name": "LayoutModel",
          "model_module_version": "1.2.0",
          "state": {
            "_model_module": "@jupyter-widgets/base",
            "_model_module_version": "1.2.0",
            "_model_name": "LayoutModel",
            "_view_count": null,
            "_view_module": "@jupyter-widgets/base",
            "_view_module_version": "1.2.0",
            "_view_name": "LayoutView",
            "align_content": null,
            "align_items": null,
            "align_self": null,
            "border": null,
            "bottom": null,
            "display": null,
            "flex": null,
            "flex_flow": null,
            "grid_area": null,
            "grid_auto_columns": null,
            "grid_auto_flow": null,
            "grid_auto_rows": null,
            "grid_column": null,
            "grid_gap": null,
            "grid_row": null,
            "grid_template_areas": null,
            "grid_template_columns": null,
            "grid_template_rows": null,
            "height": null,
            "justify_content": null,
            "justify_items": null,
            "left": null,
            "margin": null,
            "max_height": null,
            "max_width": null,
            "min_height": null,
            "min_width": null,
            "object_fit": null,
            "object_position": null,
            "order": null,
            "overflow": null,
            "overflow_x": null,
            "overflow_y": null,
            "padding": null,
            "right": null,
            "top": null,
            "visibility": null,
            "width": null
          }
        },
        "30781f2f36e8433dbd936107cec5411b": {
          "model_module": "@jupyter-widgets/controls",
          "model_name": "DescriptionStyleModel",
          "model_module_version": "1.5.0",
          "state": {
            "_model_module": "@jupyter-widgets/controls",
            "_model_module_version": "1.5.0",
            "_model_name": "DescriptionStyleModel",
            "_view_count": null,
            "_view_module": "@jupyter-widgets/base",
            "_view_module_version": "1.2.0",
            "_view_name": "StyleView",
            "description_width": ""
          }
        },
        "fe8f52511c3c42ba8de8301ffb231e4f": {
          "model_module": "@jupyter-widgets/controls",
          "model_name": "HBoxModel",
          "model_module_version": "1.5.0",
          "state": {
            "_dom_classes": [],
            "_model_module": "@jupyter-widgets/controls",
            "_model_module_version": "1.5.0",
            "_model_name": "HBoxModel",
            "_view_count": null,
            "_view_module": "@jupyter-widgets/controls",
            "_view_module_version": "1.5.0",
            "_view_name": "HBoxView",
            "box_style": "",
            "children": [
              "IPY_MODEL_6859ffaf885641b6be3ffb67c736f5c7",
              "IPY_MODEL_239d75725de04b43b9ee7d7e6aaf4ead",
              "IPY_MODEL_1f09b58c140b478795f485ca22d4529d"
            ],
            "layout": "IPY_MODEL_59acac86347c4143855ba67029252a71"
          }
        },
        "6859ffaf885641b6be3ffb67c736f5c7": {
          "model_module": "@jupyter-widgets/controls",
          "model_name": "HTMLModel",
          "model_module_version": "1.5.0",
          "state": {
            "_dom_classes": [],
            "_model_module": "@jupyter-widgets/controls",
            "_model_module_version": "1.5.0",
            "_model_name": "HTMLModel",
            "_view_count": null,
            "_view_module": "@jupyter-widgets/controls",
            "_view_module_version": "1.5.0",
            "_view_name": "HTMLView",
            "description": "",
            "description_tooltip": null,
            "layout": "IPY_MODEL_0747239536d54aaeb4dde1ad67d4c652",
            "placeholder": "​",
            "style": "IPY_MODEL_198c25ce7293433eadfc3faba730fc78",
            "value": "100%"
          }
        },
        "239d75725de04b43b9ee7d7e6aaf4ead": {
          "model_module": "@jupyter-widgets/controls",
          "model_name": "FloatProgressModel",
          "model_module_version": "1.5.0",
          "state": {
            "_dom_classes": [],
            "_model_module": "@jupyter-widgets/controls",
            "_model_module_version": "1.5.0",
            "_model_name": "FloatProgressModel",
            "_view_count": null,
            "_view_module": "@jupyter-widgets/controls",
            "_view_module_version": "1.5.0",
            "_view_name": "ProgressView",
            "bar_style": "success",
            "description": "",
            "description_tooltip": null,
            "layout": "IPY_MODEL_9835bec40bef4b75ab6ef31583074d14",
            "max": 1648877,
            "min": 0,
            "orientation": "horizontal",
            "style": "IPY_MODEL_62e0ea60c19c4f208510b88bebaf57b7",
            "value": 1648877
          }
        },
        "1f09b58c140b478795f485ca22d4529d": {
          "model_module": "@jupyter-widgets/controls",
          "model_name": "HTMLModel",
          "model_module_version": "1.5.0",
          "state": {
            "_dom_classes": [],
            "_model_module": "@jupyter-widgets/controls",
            "_model_module_version": "1.5.0",
            "_model_name": "HTMLModel",
            "_view_count": null,
            "_view_module": "@jupyter-widgets/controls",
            "_view_module_version": "1.5.0",
            "_view_name": "HTMLView",
            "description": "",
            "description_tooltip": null,
            "layout": "IPY_MODEL_15b5dea2fda643a4bf7cb95b617d9354",
            "placeholder": "​",
            "style": "IPY_MODEL_df3c8ef90c704bf2acd038e730f3ba25",
            "value": " 1648877/1648877 [00:00&lt;00:00, 13287831.06it/s]"
          }
        },
        "59acac86347c4143855ba67029252a71": {
          "model_module": "@jupyter-widgets/base",
          "model_name": "LayoutModel",
          "model_module_version": "1.2.0",
          "state": {
            "_model_module": "@jupyter-widgets/base",
            "_model_module_version": "1.2.0",
            "_model_name": "LayoutModel",
            "_view_count": null,
            "_view_module": "@jupyter-widgets/base",
            "_view_module_version": "1.2.0",
            "_view_name": "LayoutView",
            "align_content": null,
            "align_items": null,
            "align_self": null,
            "border": null,
            "bottom": null,
            "display": null,
            "flex": null,
            "flex_flow": null,
            "grid_area": null,
            "grid_auto_columns": null,
            "grid_auto_flow": null,
            "grid_auto_rows": null,
            "grid_column": null,
            "grid_gap": null,
            "grid_row": null,
            "grid_template_areas": null,
            "grid_template_columns": null,
            "grid_template_rows": null,
            "height": null,
            "justify_content": null,
            "justify_items": null,
            "left": null,
            "margin": null,
            "max_height": null,
            "max_width": null,
            "min_height": null,
            "min_width": null,
            "object_fit": null,
            "object_position": null,
            "order": null,
            "overflow": null,
            "overflow_x": null,
            "overflow_y": null,
            "padding": null,
            "right": null,
            "top": null,
            "visibility": null,
            "width": null
          }
        },
        "0747239536d54aaeb4dde1ad67d4c652": {
          "model_module": "@jupyter-widgets/base",
          "model_name": "LayoutModel",
          "model_module_version": "1.2.0",
          "state": {
            "_model_module": "@jupyter-widgets/base",
            "_model_module_version": "1.2.0",
            "_model_name": "LayoutModel",
            "_view_count": null,
            "_view_module": "@jupyter-widgets/base",
            "_view_module_version": "1.2.0",
            "_view_name": "LayoutView",
            "align_content": null,
            "align_items": null,
            "align_self": null,
            "border": null,
            "bottom": null,
            "display": null,
            "flex": null,
            "flex_flow": null,
            "grid_area": null,
            "grid_auto_columns": null,
            "grid_auto_flow": null,
            "grid_auto_rows": null,
            "grid_column": null,
            "grid_gap": null,
            "grid_row": null,
            "grid_template_areas": null,
            "grid_template_columns": null,
            "grid_template_rows": null,
            "height": null,
            "justify_content": null,
            "justify_items": null,
            "left": null,
            "margin": null,
            "max_height": null,
            "max_width": null,
            "min_height": null,
            "min_width": null,
            "object_fit": null,
            "object_position": null,
            "order": null,
            "overflow": null,
            "overflow_x": null,
            "overflow_y": null,
            "padding": null,
            "right": null,
            "top": null,
            "visibility": null,
            "width": null
          }
        },
        "198c25ce7293433eadfc3faba730fc78": {
          "model_module": "@jupyter-widgets/controls",
          "model_name": "DescriptionStyleModel",
          "model_module_version": "1.5.0",
          "state": {
            "_model_module": "@jupyter-widgets/controls",
            "_model_module_version": "1.5.0",
            "_model_name": "DescriptionStyleModel",
            "_view_count": null,
            "_view_module": "@jupyter-widgets/base",
            "_view_module_version": "1.2.0",
            "_view_name": "StyleView",
            "description_width": ""
          }
        },
        "9835bec40bef4b75ab6ef31583074d14": {
          "model_module": "@jupyter-widgets/base",
          "model_name": "LayoutModel",
          "model_module_version": "1.2.0",
          "state": {
            "_model_module": "@jupyter-widgets/base",
            "_model_module_version": "1.2.0",
            "_model_name": "LayoutModel",
            "_view_count": null,
            "_view_module": "@jupyter-widgets/base",
            "_view_module_version": "1.2.0",
            "_view_name": "LayoutView",
            "align_content": null,
            "align_items": null,
            "align_self": null,
            "border": null,
            "bottom": null,
            "display": null,
            "flex": null,
            "flex_flow": null,
            "grid_area": null,
            "grid_auto_columns": null,
            "grid_auto_flow": null,
            "grid_auto_rows": null,
            "grid_column": null,
            "grid_gap": null,
            "grid_row": null,
            "grid_template_areas": null,
            "grid_template_columns": null,
            "grid_template_rows": null,
            "height": null,
            "justify_content": null,
            "justify_items": null,
            "left": null,
            "margin": null,
            "max_height": null,
            "max_width": null,
            "min_height": null,
            "min_width": null,
            "object_fit": null,
            "object_position": null,
            "order": null,
            "overflow": null,
            "overflow_x": null,
            "overflow_y": null,
            "padding": null,
            "right": null,
            "top": null,
            "visibility": null,
            "width": null
          }
        },
        "62e0ea60c19c4f208510b88bebaf57b7": {
          "model_module": "@jupyter-widgets/controls",
          "model_name": "ProgressStyleModel",
          "model_module_version": "1.5.0",
          "state": {
            "_model_module": "@jupyter-widgets/controls",
            "_model_module_version": "1.5.0",
            "_model_name": "ProgressStyleModel",
            "_view_count": null,
            "_view_module": "@jupyter-widgets/base",
            "_view_module_version": "1.2.0",
            "_view_name": "StyleView",
            "bar_color": null,
            "description_width": ""
          }
        },
        "15b5dea2fda643a4bf7cb95b617d9354": {
          "model_module": "@jupyter-widgets/base",
          "model_name": "LayoutModel",
          "model_module_version": "1.2.0",
          "state": {
            "_model_module": "@jupyter-widgets/base",
            "_model_module_version": "1.2.0",
            "_model_name": "LayoutModel",
            "_view_count": null,
            "_view_module": "@jupyter-widgets/base",
            "_view_module_version": "1.2.0",
            "_view_name": "LayoutView",
            "align_content": null,
            "align_items": null,
            "align_self": null,
            "border": null,
            "bottom": null,
            "display": null,
            "flex": null,
            "flex_flow": null,
            "grid_area": null,
            "grid_auto_columns": null,
            "grid_auto_flow": null,
            "grid_auto_rows": null,
            "grid_column": null,
            "grid_gap": null,
            "grid_row": null,
            "grid_template_areas": null,
            "grid_template_columns": null,
            "grid_template_rows": null,
            "height": null,
            "justify_content": null,
            "justify_items": null,
            "left": null,
            "margin": null,
            "max_height": null,
            "max_width": null,
            "min_height": null,
            "min_width": null,
            "object_fit": null,
            "object_position": null,
            "order": null,
            "overflow": null,
            "overflow_x": null,
            "overflow_y": null,
            "padding": null,
            "right": null,
            "top": null,
            "visibility": null,
            "width": null
          }
        },
        "df3c8ef90c704bf2acd038e730f3ba25": {
          "model_module": "@jupyter-widgets/controls",
          "model_name": "DescriptionStyleModel",
          "model_module_version": "1.5.0",
          "state": {
            "_model_module": "@jupyter-widgets/controls",
            "_model_module_version": "1.5.0",
            "_model_name": "DescriptionStyleModel",
            "_view_count": null,
            "_view_module": "@jupyter-widgets/base",
            "_view_module_version": "1.2.0",
            "_view_name": "StyleView",
            "description_width": ""
          }
        },
        "f41815023670497ba671d0cc36daea8d": {
          "model_module": "@jupyter-widgets/controls",
          "model_name": "HBoxModel",
          "model_module_version": "1.5.0",
          "state": {
            "_dom_classes": [],
            "_model_module": "@jupyter-widgets/controls",
            "_model_module_version": "1.5.0",
            "_model_name": "HBoxModel",
            "_view_count": null,
            "_view_module": "@jupyter-widgets/controls",
            "_view_module_version": "1.5.0",
            "_view_name": "HBoxView",
            "box_style": "",
            "children": [
              "IPY_MODEL_2b05249b03dd4534817a92a23a2323fb",
              "IPY_MODEL_233f222b2aa84467a926b9afe1480e91",
              "IPY_MODEL_69056f6c2d4d405aa8418784471bd0fc"
            ],
            "layout": "IPY_MODEL_c81f5f69247642638cbd94eb374cde91"
          }
        },
        "2b05249b03dd4534817a92a23a2323fb": {
          "model_module": "@jupyter-widgets/controls",
          "model_name": "HTMLModel",
          "model_module_version": "1.5.0",
          "state": {
            "_dom_classes": [],
            "_model_module": "@jupyter-widgets/controls",
            "_model_module_version": "1.5.0",
            "_model_name": "HTMLModel",
            "_view_count": null,
            "_view_module": "@jupyter-widgets/controls",
            "_view_module_version": "1.5.0",
            "_view_name": "HTMLView",
            "description": "",
            "description_tooltip": null,
            "layout": "IPY_MODEL_ee2592035be848da81fe7793eb8eeecc",
            "placeholder": "​",
            "style": "IPY_MODEL_e9560044571a4529b1f53975703ebe4d",
            "value": "100%"
          }
        },
        "233f222b2aa84467a926b9afe1480e91": {
          "model_module": "@jupyter-widgets/controls",
          "model_name": "FloatProgressModel",
          "model_module_version": "1.5.0",
          "state": {
            "_dom_classes": [],
            "_model_module": "@jupyter-widgets/controls",
            "_model_module_version": "1.5.0",
            "_model_name": "FloatProgressModel",
            "_view_count": null,
            "_view_module": "@jupyter-widgets/controls",
            "_view_module_version": "1.5.0",
            "_view_name": "ProgressView",
            "bar_style": "success",
            "description": "",
            "description_tooltip": null,
            "layout": "IPY_MODEL_21b9f20ce09b46fcaa26028d37835898",
            "max": 4542,
            "min": 0,
            "orientation": "horizontal",
            "style": "IPY_MODEL_54a04f72e5f64033bd5d4b51f5a43956",
            "value": 4542
          }
        },
        "69056f6c2d4d405aa8418784471bd0fc": {
          "model_module": "@jupyter-widgets/controls",
          "model_name": "HTMLModel",
          "model_module_version": "1.5.0",
          "state": {
            "_dom_classes": [],
            "_model_module": "@jupyter-widgets/controls",
            "_model_module_version": "1.5.0",
            "_model_name": "HTMLModel",
            "_view_count": null,
            "_view_module": "@jupyter-widgets/controls",
            "_view_module_version": "1.5.0",
            "_view_name": "HTMLView",
            "description": "",
            "description_tooltip": null,
            "layout": "IPY_MODEL_b00bff5e9e4a4747b7df54645819fe5c",
            "placeholder": "​",
            "style": "IPY_MODEL_5b2347bbac6d409f967543fd1fc6a907",
            "value": " 4542/4542 [00:00&lt;00:00, 154632.17it/s]"
          }
        },
        "c81f5f69247642638cbd94eb374cde91": {
          "model_module": "@jupyter-widgets/base",
          "model_name": "LayoutModel",
          "model_module_version": "1.2.0",
          "state": {
            "_model_module": "@jupyter-widgets/base",
            "_model_module_version": "1.2.0",
            "_model_name": "LayoutModel",
            "_view_count": null,
            "_view_module": "@jupyter-widgets/base",
            "_view_module_version": "1.2.0",
            "_view_name": "LayoutView",
            "align_content": null,
            "align_items": null,
            "align_self": null,
            "border": null,
            "bottom": null,
            "display": null,
            "flex": null,
            "flex_flow": null,
            "grid_area": null,
            "grid_auto_columns": null,
            "grid_auto_flow": null,
            "grid_auto_rows": null,
            "grid_column": null,
            "grid_gap": null,
            "grid_row": null,
            "grid_template_areas": null,
            "grid_template_columns": null,
            "grid_template_rows": null,
            "height": null,
            "justify_content": null,
            "justify_items": null,
            "left": null,
            "margin": null,
            "max_height": null,
            "max_width": null,
            "min_height": null,
            "min_width": null,
            "object_fit": null,
            "object_position": null,
            "order": null,
            "overflow": null,
            "overflow_x": null,
            "overflow_y": null,
            "padding": null,
            "right": null,
            "top": null,
            "visibility": null,
            "width": null
          }
        },
        "ee2592035be848da81fe7793eb8eeecc": {
          "model_module": "@jupyter-widgets/base",
          "model_name": "LayoutModel",
          "model_module_version": "1.2.0",
          "state": {
            "_model_module": "@jupyter-widgets/base",
            "_model_module_version": "1.2.0",
            "_model_name": "LayoutModel",
            "_view_count": null,
            "_view_module": "@jupyter-widgets/base",
            "_view_module_version": "1.2.0",
            "_view_name": "LayoutView",
            "align_content": null,
            "align_items": null,
            "align_self": null,
            "border": null,
            "bottom": null,
            "display": null,
            "flex": null,
            "flex_flow": null,
            "grid_area": null,
            "grid_auto_columns": null,
            "grid_auto_flow": null,
            "grid_auto_rows": null,
            "grid_column": null,
            "grid_gap": null,
            "grid_row": null,
            "grid_template_areas": null,
            "grid_template_columns": null,
            "grid_template_rows": null,
            "height": null,
            "justify_content": null,
            "justify_items": null,
            "left": null,
            "margin": null,
            "max_height": null,
            "max_width": null,
            "min_height": null,
            "min_width": null,
            "object_fit": null,
            "object_position": null,
            "order": null,
            "overflow": null,
            "overflow_x": null,
            "overflow_y": null,
            "padding": null,
            "right": null,
            "top": null,
            "visibility": null,
            "width": null
          }
        },
        "e9560044571a4529b1f53975703ebe4d": {
          "model_module": "@jupyter-widgets/controls",
          "model_name": "DescriptionStyleModel",
          "model_module_version": "1.5.0",
          "state": {
            "_model_module": "@jupyter-widgets/controls",
            "_model_module_version": "1.5.0",
            "_model_name": "DescriptionStyleModel",
            "_view_count": null,
            "_view_module": "@jupyter-widgets/base",
            "_view_module_version": "1.2.0",
            "_view_name": "StyleView",
            "description_width": ""
          }
        },
        "21b9f20ce09b46fcaa26028d37835898": {
          "model_module": "@jupyter-widgets/base",
          "model_name": "LayoutModel",
          "model_module_version": "1.2.0",
          "state": {
            "_model_module": "@jupyter-widgets/base",
            "_model_module_version": "1.2.0",
            "_model_name": "LayoutModel",
            "_view_count": null,
            "_view_module": "@jupyter-widgets/base",
            "_view_module_version": "1.2.0",
            "_view_name": "LayoutView",
            "align_content": null,
            "align_items": null,
            "align_self": null,
            "border": null,
            "bottom": null,
            "display": null,
            "flex": null,
            "flex_flow": null,
            "grid_area": null,
            "grid_auto_columns": null,
            "grid_auto_flow": null,
            "grid_auto_rows": null,
            "grid_column": null,
            "grid_gap": null,
            "grid_row": null,
            "grid_template_areas": null,
            "grid_template_columns": null,
            "grid_template_rows": null,
            "height": null,
            "justify_content": null,
            "justify_items": null,
            "left": null,
            "margin": null,
            "max_height": null,
            "max_width": null,
            "min_height": null,
            "min_width": null,
            "object_fit": null,
            "object_position": null,
            "order": null,
            "overflow": null,
            "overflow_x": null,
            "overflow_y": null,
            "padding": null,
            "right": null,
            "top": null,
            "visibility": null,
            "width": null
          }
        },
        "54a04f72e5f64033bd5d4b51f5a43956": {
          "model_module": "@jupyter-widgets/controls",
          "model_name": "ProgressStyleModel",
          "model_module_version": "1.5.0",
          "state": {
            "_model_module": "@jupyter-widgets/controls",
            "_model_module_version": "1.5.0",
            "_model_name": "ProgressStyleModel",
            "_view_count": null,
            "_view_module": "@jupyter-widgets/base",
            "_view_module_version": "1.2.0",
            "_view_name": "StyleView",
            "bar_color": null,
            "description_width": ""
          }
        },
        "b00bff5e9e4a4747b7df54645819fe5c": {
          "model_module": "@jupyter-widgets/base",
          "model_name": "LayoutModel",
          "model_module_version": "1.2.0",
          "state": {
            "_model_module": "@jupyter-widgets/base",
            "_model_module_version": "1.2.0",
            "_model_name": "LayoutModel",
            "_view_count": null,
            "_view_module": "@jupyter-widgets/base",
            "_view_module_version": "1.2.0",
            "_view_name": "LayoutView",
            "align_content": null,
            "align_items": null,
            "align_self": null,
            "border": null,
            "bottom": null,
            "display": null,
            "flex": null,
            "flex_flow": null,
            "grid_area": null,
            "grid_auto_columns": null,
            "grid_auto_flow": null,
            "grid_auto_rows": null,
            "grid_column": null,
            "grid_gap": null,
            "grid_row": null,
            "grid_template_areas": null,
            "grid_template_columns": null,
            "grid_template_rows": null,
            "height": null,
            "justify_content": null,
            "justify_items": null,
            "left": null,
            "margin": null,
            "max_height": null,
            "max_width": null,
            "min_height": null,
            "min_width": null,
            "object_fit": null,
            "object_position": null,
            "order": null,
            "overflow": null,
            "overflow_x": null,
            "overflow_y": null,
            "padding": null,
            "right": null,
            "top": null,
            "visibility": null,
            "width": null
          }
        },
        "5b2347bbac6d409f967543fd1fc6a907": {
          "model_module": "@jupyter-widgets/controls",
          "model_name": "DescriptionStyleModel",
          "model_module_version": "1.5.0",
          "state": {
            "_model_module": "@jupyter-widgets/controls",
            "_model_module_version": "1.5.0",
            "_model_name": "DescriptionStyleModel",
            "_view_count": null,
            "_view_module": "@jupyter-widgets/base",
            "_view_module_version": "1.2.0",
            "_view_name": "StyleView",
            "description_width": ""
          }
        }
      }
    }
  },
  "cells": [
    {
      "cell_type": "markdown",
      "metadata": {
        "id": "view-in-github",
        "colab_type": "text"
      },
      "source": [
        "<a href=\"https://colab.research.google.com/github/sunandhini96/School_of_AI_assignment2.5/blob/main/assignment2_5.ipynb\" target=\"_parent\"><img src=\"https://colab.research.google.com/assets/colab-badge.svg\" alt=\"Open In Colab\"/></a>"
      ]
    },
    {
      "cell_type": "markdown",
      "source": [
        "##a neural network:\n",
        "--> inputs 2 :\n",
        "####1) an image from the MNIST dataset (say 5), and\n",
        "####2) a random number between 0 and 9, (say 7)\n",
        "and outputs 2:\n",
        "####the \"number\" that was represented by the MNIST image (predict 5), and\n",
        "####the \"sum\" of this number with the random number and the input image to the network (predict 5 + 7 = 12)\n",
        "                 \n",
        "you can mix fully connected layers and convolution layers\n",
        "you can use one-hot encoding to represent the random number input and the \"summed\" output.\n",
        "\n",
        "Random number (7) can be represented as 0 0 0 0 0 0 0 1 0 0\n",
        "\n",
        "Sum (13) can be represented as:\n",
        "0 0 0 0 0 0 0 0 0 0 0 0 0 1 0 0 0 0 0\n",
        "\n",
        "0b1101 (remember that 4 digits in binary can at max represent 15, so we may need to go for 5 digits. i.e. 10010"
      ],
      "metadata": {
        "id": "ux6J1gkvEDJw"
      }
    },
    {
      "cell_type": "markdown",
      "source": [
        "#Importing packages"
      ],
      "metadata": {
        "id": "qlxsIWtLEmMB"
      }
    },
    {
      "cell_type": "code",
      "execution_count": 1,
      "metadata": {
        "id": "Waqb52tq8nfJ"
      },
      "outputs": [],
      "source": [
        "import numpy as np\n",
        "import torch \n",
        "import torch.nn.functional as F\n",
        "import torch.optim as optim\n",
        "from torch.autograd import grad\n",
        "import torchvision # provide access to datasets, models, transforms, utils, etc\n",
        "import torchvision.transforms as transforms\n",
        "from torch.utils.data import Dataset\n",
        "import pandas as pd\n",
        "import matplotlib.pyplot as plt"
      ]
    },
    {
      "cell_type": "markdown",
      "source": [
        "# PyTorch Main\n",
        "\n",
        "# Working with the dataset\n",
        "\n",
        "###For better understanding network first we study about dataset.\n",
        "\n",
        "### A common nn pipeline looks like this:\n",
        "1. Prepare the data\n",
        "2. Build the model\n",
        "3. Train the model\n",
        "4. Analyze the model"
      ],
      "metadata": {
        "id": "rmBcSKZi9FKT"
      }
    },
    {
      "cell_type": "code",
      "source": [
        "# now let's work with Mnist first loading the MNIST dataset\n",
        "#The MNIST (Modified National Institute of Standards and Technology) dataset is a widely used dataset for the machine learning community. It consists of a training set of 60,000 labeled images and a test set of 10,000 images. The images are of handwritten digits, and the goal of a machine learning model trained on this data is to accurately classify the digits in the images. The images are 28x28 pixels and are grayscale, with a single pixel value ranging from 0 (white) to 255 (black). The digits are pre-processed and centered in the images. The MNIST dataset is often used as a benchmark for machine learning models, particularly for image classification tasks.\n",
        "\n",
        "train_set = torchvision.datasets.MNIST(\n",
        "    root='./data'\n",
        "    ,train=True\n",
        "    ,download=True\n",
        "    ,transform=transforms.Compose([\n",
        "        transforms.ToTensor()\n",
        "    ])\n",
        ")\n"
      ],
      "metadata": {
        "id": "M76FPUxy9u0Q",
        "colab": {
          "base_uri": "https://localhost:8080/",
          "height": 423,
          "referenced_widgets": [
            "101ec3e5bc1b4cd2892f60f58fe118ba",
            "4312e60b43a4484aa97f74f00bab51de",
            "4b2768bc972f4020b3f853d6a047e9bb",
            "f343b991cbcd4e0db2c6c88ab5ca9b8e",
            "2b74fec91e7c431caea3c020789e99f3",
            "138c129512e44b0ea3c40faf8d276a66",
            "cfb54d97ff4646708ca2ddb83fe10aea",
            "bbd26f2ceb7d4437841edff6efa5e304",
            "c5e2d92a4d084b96af5a0dfb021ffc89",
            "b62b675c7e7c4acc86ab9f2c2ef8910f",
            "da13fc56689f4a238bc2d905eb6b4098",
            "3ee098bf37164476873c6a9f629d5568",
            "16ec7ffb54974e0f85100d1866d981b2",
            "9a92d2ed21364912b7e137cb459f8ad2",
            "22331fe7360b471597aa1ad724ca7f23",
            "596fdb5e41024bba85a2432b6c9ed66c",
            "bc81b2533a574acf9d9977af180fa87c",
            "aebaf2f0a41d457ba1837b68d2fb3d7e",
            "9b4020b37c4f413f88ca3aa17bbc3365",
            "38ff9df6dfea408fabfbdb35f2eca999",
            "f9792a0811d9457e90d4ad586169bd24",
            "30781f2f36e8433dbd936107cec5411b",
            "fe8f52511c3c42ba8de8301ffb231e4f",
            "6859ffaf885641b6be3ffb67c736f5c7",
            "239d75725de04b43b9ee7d7e6aaf4ead",
            "1f09b58c140b478795f485ca22d4529d",
            "59acac86347c4143855ba67029252a71",
            "0747239536d54aaeb4dde1ad67d4c652",
            "198c25ce7293433eadfc3faba730fc78",
            "9835bec40bef4b75ab6ef31583074d14",
            "62e0ea60c19c4f208510b88bebaf57b7",
            "15b5dea2fda643a4bf7cb95b617d9354",
            "df3c8ef90c704bf2acd038e730f3ba25",
            "f41815023670497ba671d0cc36daea8d",
            "2b05249b03dd4534817a92a23a2323fb",
            "233f222b2aa84467a926b9afe1480e91",
            "69056f6c2d4d405aa8418784471bd0fc",
            "c81f5f69247642638cbd94eb374cde91",
            "ee2592035be848da81fe7793eb8eeecc",
            "e9560044571a4529b1f53975703ebe4d",
            "21b9f20ce09b46fcaa26028d37835898",
            "54a04f72e5f64033bd5d4b51f5a43956",
            "b00bff5e9e4a4747b7df54645819fe5c",
            "5b2347bbac6d409f967543fd1fc6a907"
          ]
        },
        "outputId": "8724dbac-88e4-4f65-b0e3-e47aac383bc8"
      },
      "execution_count": 2,
      "outputs": [
        {
          "output_type": "stream",
          "name": "stdout",
          "text": [
            "Downloading http://yann.lecun.com/exdb/mnist/train-images-idx3-ubyte.gz\n",
            "Downloading http://yann.lecun.com/exdb/mnist/train-images-idx3-ubyte.gz to ./data/MNIST/raw/train-images-idx3-ubyte.gz\n"
          ]
        },
        {
          "output_type": "display_data",
          "data": {
            "text/plain": [
              "  0%|          | 0/9912422 [00:00<?, ?it/s]"
            ],
            "application/vnd.jupyter.widget-view+json": {
              "version_major": 2,
              "version_minor": 0,
              "model_id": "101ec3e5bc1b4cd2892f60f58fe118ba"
            }
          },
          "metadata": {}
        },
        {
          "output_type": "stream",
          "name": "stdout",
          "text": [
            "Extracting ./data/MNIST/raw/train-images-idx3-ubyte.gz to ./data/MNIST/raw\n",
            "\n",
            "Downloading http://yann.lecun.com/exdb/mnist/train-labels-idx1-ubyte.gz\n",
            "Downloading http://yann.lecun.com/exdb/mnist/train-labels-idx1-ubyte.gz to ./data/MNIST/raw/train-labels-idx1-ubyte.gz\n"
          ]
        },
        {
          "output_type": "display_data",
          "data": {
            "text/plain": [
              "  0%|          | 0/28881 [00:00<?, ?it/s]"
            ],
            "application/vnd.jupyter.widget-view+json": {
              "version_major": 2,
              "version_minor": 0,
              "model_id": "3ee098bf37164476873c6a9f629d5568"
            }
          },
          "metadata": {}
        },
        {
          "output_type": "stream",
          "name": "stdout",
          "text": [
            "Extracting ./data/MNIST/raw/train-labels-idx1-ubyte.gz to ./data/MNIST/raw\n",
            "\n",
            "Downloading http://yann.lecun.com/exdb/mnist/t10k-images-idx3-ubyte.gz\n",
            "Downloading http://yann.lecun.com/exdb/mnist/t10k-images-idx3-ubyte.gz to ./data/MNIST/raw/t10k-images-idx3-ubyte.gz\n"
          ]
        },
        {
          "output_type": "display_data",
          "data": {
            "text/plain": [
              "  0%|          | 0/1648877 [00:00<?, ?it/s]"
            ],
            "application/vnd.jupyter.widget-view+json": {
              "version_major": 2,
              "version_minor": 0,
              "model_id": "fe8f52511c3c42ba8de8301ffb231e4f"
            }
          },
          "metadata": {}
        },
        {
          "output_type": "stream",
          "name": "stdout",
          "text": [
            "Extracting ./data/MNIST/raw/t10k-images-idx3-ubyte.gz to ./data/MNIST/raw\n",
            "\n",
            "Downloading http://yann.lecun.com/exdb/mnist/t10k-labels-idx1-ubyte.gz\n",
            "Downloading http://yann.lecun.com/exdb/mnist/t10k-labels-idx1-ubyte.gz to ./data/MNIST/raw/t10k-labels-idx1-ubyte.gz\n"
          ]
        },
        {
          "output_type": "display_data",
          "data": {
            "text/plain": [
              "  0%|          | 0/4542 [00:00<?, ?it/s]"
            ],
            "application/vnd.jupyter.widget-view+json": {
              "version_major": 2,
              "version_minor": 0,
              "model_id": "f41815023670497ba671d0cc36daea8d"
            }
          },
          "metadata": {}
        },
        {
          "output_type": "stream",
          "name": "stdout",
          "text": [
            "Extracting ./data/MNIST/raw/t10k-labels-idx1-ubyte.gz to ./data/MNIST/raw\n",
            "\n"
          ]
        }
      ]
    },
    {
      "cell_type": "code",
      "source": [
        "train_loader = torch.utils.data.DataLoader(train_set #loading the data with a batch size of 32\n",
        "    ,batch_size=1\n",
        "    ,shuffle=True\n",
        ")"
      ],
      "metadata": {
        "id": "oVr1xq6QLt8G"
      },
      "execution_count": 3,
      "outputs": []
    },
    {
      "cell_type": "code",
      "source": [
        "sample = next(iter(train_set))\n",
        "\n",
        "len(sample)"
      ],
      "metadata": {
        "colab": {
          "base_uri": "https://localhost:8080/"
        },
        "id": "lSnMDjr6p2Wh",
        "outputId": "6b0c0f6a-7736-4241-ae1c-28a3df6a92bc"
      },
      "execution_count": 4,
      "outputs": [
        {
          "output_type": "execute_result",
          "data": {
            "text/plain": [
              "2"
            ]
          },
          "metadata": {},
          "execution_count": 4
        }
      ]
    },
    {
      "cell_type": "code",
      "source": [
        "image, label = sample"
      ],
      "metadata": {
        "id": "UxDn1gnzp4xM"
      },
      "execution_count": 5,
      "outputs": []
    },
    {
      "cell_type": "code",
      "source": [
        "plt.imshow(image.squeeze(), cmap='gray')\n",
        "print('label:', label)"
      ],
      "metadata": {
        "colab": {
          "base_uri": "https://localhost:8080/",
          "height": 282
        },
        "id": "1Xkr3Tfmp-pr",
        "outputId": "166f3bff-787b-41f7-c31c-3fdfda3f03a0"
      },
      "execution_count": 6,
      "outputs": [
        {
          "output_type": "stream",
          "name": "stdout",
          "text": [
            "label: 5\n"
          ]
        },
        {
          "output_type": "display_data",
          "data": {
            "text/plain": [
              "<Figure size 432x288 with 1 Axes>"
            ],
            "image/png": "[encoded data removed]"
          },
          "metadata": {
            "needs_background": "light"
          }
        }
      ]
    },
    {
      "cell_type": "code",
      "source": [
        "import numpy as np\n",
        "import matplotlib.pyplot as plt\n",
        "\n",
        "torch.set_printoptions(linewidth=120)"
      ],
      "metadata": {
        "id": "P4FjVIxi9u6x"
      },
      "execution_count": 7,
      "outputs": []
    },
    {
      "cell_type": "code",
      "source": [
        "sample = next(iter(train_set))\n",
        "\n",
        "len(sample)"
      ],
      "metadata": {
        "colab": {
          "base_uri": "https://localhost:8080/"
        },
        "id": "tNUmPYlL97xx",
        "outputId": "467bdf7b-c810-4aca-f9d3-c6dd6995badb"
      },
      "execution_count": 8,
      "outputs": [
        {
          "output_type": "execute_result",
          "data": {
            "text/plain": [
              "2"
            ]
          },
          "metadata": {},
          "execution_count": 8
        }
      ]
    },
    {
      "cell_type": "code",
      "source": [
        "image, label = sample"
      ],
      "metadata": {
        "id": "tNDDq0is970n"
      },
      "execution_count": 9,
      "outputs": []
    },
    {
      "cell_type": "code",
      "source": [
        "plt.imshow(image.squeeze(), cmap='gray')\n",
        "print('label:', label)"
      ],
      "metadata": {
        "colab": {
          "base_uri": "https://localhost:8080/",
          "height": 282
        },
        "id": "zBi7KBXZ972r",
        "outputId": "06456874-5a0a-4137-b40f-45b7fcdf4eea"
      },
      "execution_count": 10,
      "outputs": [
        {
          "output_type": "stream",
          "name": "stdout",
          "text": [
            "label: 5\n"
          ]
        },
        {
          "output_type": "display_data",
          "data": {
            "text/plain": [
              "<Figure size 432x288 with 1 Axes>"
            ],
            "image/png": "[encoded data removed]"
          },
          "metadata": {
            "needs_background": "light"
          }
        }
      ]
    },
    {
      "cell_type": "code",
      "source": [
        "train_loader = torch.utils.data.DataLoader(train_set #loading the data with a batch size of 32\n",
        "    ,batch_size=32\n",
        "    ,shuffle=True\n",
        ")"
      ],
      "metadata": {
        "id": "BO5TdbXnq7z3"
      },
      "execution_count": 11,
      "outputs": []
    },
    {
      "cell_type": "code",
      "source": [
        "batch = next(iter(train_loader))\n",
        "\n",
        "len(batch), type(batch)"
      ],
      "metadata": {
        "colab": {
          "base_uri": "https://localhost:8080/"
        },
        "id": "XQI4_6al9757",
        "outputId": "3275f5c8-567f-49f4-8e78-557e6617f17c"
      },
      "execution_count": 12,
      "outputs": [
        {
          "output_type": "execute_result",
          "data": {
            "text/plain": [
              "(2, list)"
            ]
          },
          "metadata": {},
          "execution_count": 12
        }
      ]
    },
    {
      "cell_type": "code",
      "source": [
        "images, labels = batch"
      ],
      "metadata": {
        "id": "D_mX38rc-GsK"
      },
      "execution_count": 13,
      "outputs": []
    },
    {
      "cell_type": "code",
      "source": [
        "images.shape, labels.shape"
      ],
      "metadata": {
        "colab": {
          "base_uri": "https://localhost:8080/"
        },
        "id": "cJW1wBx3-GvR",
        "outputId": "97043852-bcd9-4b32-b5d2-31458f91f917"
      },
      "execution_count": 14,
      "outputs": [
        {
          "output_type": "execute_result",
          "data": {
            "text/plain": [
              "(torch.Size([32, 1, 28, 28]), torch.Size([32]))"
            ]
          },
          "metadata": {},
          "execution_count": 14
        }
      ]
    },
    {
      "cell_type": "code",
      "source": [
        "grid = torchvision.utils.make_grid(images, nrow=10)\n",
        "plt.figure(figsize=(15,15))\n",
        "plt.imshow(np.transpose(grid, (1,2,0)))\n",
        "print('labels:', labels)"
      ],
      "metadata": {
        "colab": {
          "base_uri": "https://localhost:8080/",
          "height": 406
        },
        "id": "J2PMXN5S-Gyc",
        "outputId": "6a337cf5-7404-46ae-8b54-550d28edf13c"
      },
      "execution_count": 15,
      "outputs": [
        {
          "output_type": "stream",
          "name": "stdout",
          "text": [
            "labels: tensor([7, 2, 6, 7, 5, 9, 9, 2, 6, 6, 5, 8, 7, 0, 1, 1, 9, 9, 3, 8, 2, 5, 3, 1, 1, 9, 4, 8, 0, 0, 1, 8])\n"
          ]
        },
        {
          "output_type": "display_data",
          "data": {
            "text/plain": [
              "<Figure size 1080x1080 with 1 Axes>"
            ],
            "image/png": "[encoded data removed]"
          },
          "metadata": {
            "needs_background": "light"
          }
        }
      ]
    },
    {
      "cell_type": "markdown",
      "source": [
        "###In above Figure we observed all digits from 0 to 9 \n",
        "### in each row we are printing 10 images\n"
      ],
      "metadata": {
        "id": "VuwN-W_OGdfr"
      }
    },
    {
      "cell_type": "code",
      "source": [
        "# from torch.utils.data import Dataset\n",
        "\n",
        "# class Mnist(Dataset):\n",
        "#   def __init__(self,data):\n",
        "#     self.data = Dataset\n",
        "  \n",
        "#   def __getitem__(self, index):\n",
        "#     random_number=torch.randint(0,9,(1,))\n",
        "#     random_number=F.one_hot(random_number,num_classes=10)\n",
        "#     random_number=random_number.squeeze().to(torch.float32)\n",
        "#     r = self.data.iloc[index]\n",
        "#     label, image = r\n",
        "#     return label, image,random_number\n",
        "#   def __getlabel__(self,label1,random_number):\n",
        "#      label2= label1 + random_number\n",
        "#      label2=F.one_hot(label2,num_classes=10)\n",
        "#      label2=label2.squeeze().to(torch.float32)\n",
        "#      return self.label1,label2\n",
        "\n",
        "#   def __len__(self):\n",
        "#     return len(self.data)"
      ],
      "metadata": {
        "id": "pLqNIFNvLyTL"
      },
      "execution_count": 16,
      "outputs": []
    },
    {
      "cell_type": "code",
      "source": [
        "train_set"
      ],
      "metadata": {
        "colab": {
          "base_uri": "https://localhost:8080/"
        },
        "id": "N_jlvFzMX1gm",
        "outputId": "1dd997a2-adbd-4660-bb27-263a1fb1e558"
      },
      "execution_count": 17,
      "outputs": [
        {
          "output_type": "execute_result",
          "data": {
            "text/plain": [
              "Dataset MNIST\n",
              "    Number of datapoints: 60000\n",
              "    Root location: ./data\n",
              "    Split: Train\n",
              "    StandardTransform\n",
              "Transform: Compose(\n",
              "               ToTensor()\n",
              "           )"
            ]
          },
          "metadata": {},
          "execution_count": 17
        }
      ]
    },
    {
      "cell_type": "code",
      "source": [
        "train_loader = torch.utils.data.DataLoader(train_set, #loading the data with a batch size of 32\n",
        "                                           batch_size=32 ,shuffle=True\n",
        ")"
      ],
      "metadata": {
        "id": "0x1l-UjEXd4t"
      },
      "execution_count": 18,
      "outputs": []
    },
    {
      "cell_type": "code",
      "source": [
        "len(train_set)"
      ],
      "metadata": {
        "colab": {
          "base_uri": "https://localhost:8080/"
        },
        "id": "cvyMTjVLP3Nl",
        "outputId": "52170866-7cee-4ec8-9162-8d1a8274a368"
      },
      "execution_count": 19,
      "outputs": [
        {
          "output_type": "execute_result",
          "data": {
            "text/plain": [
              "60000"
            ]
          },
          "metadata": {},
          "execution_count": 19
        }
      ]
    },
    {
      "cell_type": "code",
      "source": [
        "#generating a random number with a torch and converting to float32\n",
        "random_number=torch.randint(0,9,(1,))\n",
        "random_number=random_number.to(torch.float32)\n",
        "random_number.dtype"
      ],
      "metadata": {
        "colab": {
          "base_uri": "https://localhost:8080/"
        },
        "id": "yu_V-7yAQZV7",
        "outputId": "3c16be21-60ab-4cf5-8f8b-9292f94e953e"
      },
      "execution_count": 20,
      "outputs": [
        {
          "output_type": "execute_result",
          "data": {
            "text/plain": [
              "torch.float32"
            ]
          },
          "metadata": {},
          "execution_count": 20
        }
      ]
    },
    {
      "cell_type": "code",
      "source": [
        "# Mnist_data=Mnist(train_set.train_labels[0],random_number)\n",
        "\n",
        "# Mnist_data.__getlabel__(train_set.train_labels[0],random_number)"
      ],
      "metadata": {
        "id": "vei9W7rvLya9"
      },
      "execution_count": 21,
      "outputs": []
    },
    {
      "cell_type": "code",
      "source": [
        "import torch.nn as nn\n",
        "\n",
        "class Network(nn.Module):\n",
        "  def __init__(self):\n",
        "    super().__init__()\n",
        "    self.layer = None\n",
        "\n",
        "  def forward(self, t):\n",
        "    t = self.layer(t)\n",
        "    return t\n"
      ],
      "metadata": {
        "id": "Vu30bVLF-Rp9"
      },
      "execution_count": 22,
      "outputs": []
    },
    {
      "cell_type": "markdown",
      "source": [
        "# Network"
      ],
      "metadata": {
        "id": "cahTu8uN-jPK"
      }
    },
    {
      "cell_type": "code",
      "source": [
        "import torch.nn as nn\n",
        "\n",
        "class Network(nn.Module):\n",
        "  def __init__(self):\n",
        "    super().__init__()\n",
        "    self.layer = None\n",
        "\n",
        "  def forward(self, t):\n",
        "    t = self.layer(t)\n",
        "    return t"
      ],
      "metadata": {
        "id": "82QBsYfh-Rvm"
      },
      "execution_count": 23,
      "outputs": []
    },
    {
      "cell_type": "code",
      "source": [
        "# class Network(nn.Module):\n",
        "#   def __init__(self):\n",
        "#     super().__init__()\n",
        "\n",
        "#     # input 28 # output 24 # receptive_field = 5\n",
        "#     self.conv1 = nn.Conv2d(in_channels=1, out_channels=6, kernel_size=5) \n",
        "#     # input 24 # output 20 # receptive_field = 9\n",
        "#     self.conv2 = nn.Conv2d(in_channels=6, out_channels=12, kernel_size=5)\n",
        "#     # input 12x20x20, output 120\n",
        "#     # input 10*512\n",
        "#     self.fc1 = nn.Linear(in_features=12*20*20, out_features=120)\n",
        "#     self.fc2 = nn.Linear(in_features=120, out_features=60)\n",
        "#     self.out = nn.Linear(in_features=60, out_features=10)\n",
        "  \n",
        "#   def forward(self, t):\n",
        "#     return t\n"
      ],
      "metadata": {
        "id": "IUga8w73-rLo"
      },
      "execution_count": 24,
      "outputs": []
    },
    {
      "cell_type": "code",
      "source": [
        "network = Network()\n",
        "\n",
        "print(network)"
      ],
      "metadata": {
        "id": "BLAC8PuW-x__",
        "colab": {
          "base_uri": "https://localhost:8080/"
        },
        "outputId": "7fbb7a63-9f3c-4582-8123-e340fc00aa78"
      },
      "execution_count": 25,
      "outputs": [
        {
          "output_type": "stream",
          "name": "stdout",
          "text": [
            "Network()\n"
          ]
        }
      ]
    },
    {
      "cell_type": "code",
      "source": [
        "# class Network(nn.Module):\n",
        "#   def __init__(self):\n",
        "#     super().__init__()\n",
        "#     self.conv1 = nn.Conv2d(in_channels=1, out_channels=6, kernel_size=5) \n",
        "#     self.conv2 = nn.Conv2d(in_channels=6, out_channels=12, kernel_size=5)\n",
        "#     self.fc1 = nn.Linear(in_features=12*20*20, out_features=120)\n",
        "#     self.fc2 = nn.Linear(in_features=120, out_features=60)\n",
        "#     self.out = nn.Linear(in_features=60, out_features=10)\n",
        "  \n",
        "#   def forward(self, t):\n",
        "#     # TODO implement this\n",
        "#     return t\n",
        "\n",
        "# network = Network()\n",
        "\n",
        "# for name, param in network.named_parameters():\n",
        "#   print(name, '\\t\\t', param.shape)"
      ],
      "metadata": {
        "id": "InP0cDjI-2hO"
      },
      "execution_count": 26,
      "outputs": []
    },
    {
      "cell_type": "code",
      "source": [
        "x1 = torch.randn([2,29])\n",
        "print(x1[:,:10])\n",
        "#x2=torch.randn([10,20])\n",
        "print(x1.shape)\n",
        "#print(torch.cat((x1, x2), 1).shape)"
      ],
      "metadata": {
        "colab": {
          "base_uri": "https://localhost:8080/"
        },
        "id": "HRXzZa-Xg3vk",
        "outputId": "cd2d29d9-afe6-4892-e14e-4ef856a943d4"
      },
      "execution_count": 27,
      "outputs": [
        {
          "output_type": "stream",
          "name": "stdout",
          "text": [
            "tensor([[-1.2981,  0.7823, -1.6769, -0.8169, -0.0199,  0.6396, -0.3057, -1.4340, -0.6972,  0.1592],\n",
            "        [ 0.3974,  1.3779,  0.5084,  1.3224,  0.9975, -1.0922,  0.1420, -0.5937,  2.0255, -1.2137]])\n",
            "torch.Size([2, 29])\n"
          ]
        }
      ]
    },
    {
      "cell_type": "code",
      "source": [
        "class Network(nn.Module):\n",
        "  def __init__(self,rn_input=3,):\n",
        "    super().__init__()\n",
        "    self.conv1 = nn.Conv2d(in_channels=1, out_channels=8, kernel_size=3) #input=28 output=26 RF=3\n",
        "    self.conv2 = nn.Conv2d(in_channels=8, out_channels= 16, kernel_size=3)  \n",
        "    self.conv3 = nn.Conv2d(in_channels=16, out_channels=32, kernel_size=3) \n",
        "    self.conv4 = nn.Conv2d(in_channels=32, out_channels=64, kernel_size=3) \n",
        "    self.fc_rn = nn.Linear(in_features=10, out_features=20)\n",
        "    #self.fc1 = nn.Linear(in_features=400, out_features=)\n",
        "    self.fc1 = nn.Linear(in_features=820, out_features=100)\n",
        "    self.fc2 = nn.Linear(in_features=100, out_features=10)\n",
        "    self.out1 = nn.Linear(in_features=100,out_features=19)\n",
        "   # self.out2 = nn.Linear(in_features=29,out_features=19)\n",
        "  \n",
        "  def forward(self, t1,t2):\n",
        "    # input layer\n",
        "    x = t1\n",
        "\n",
        "    # conv1 layer\n",
        "    x = self.conv1(x) # 28 | 26 | 3\n",
        "    x = F.relu(x)\n",
        "    x = self.conv2(x) #26 | 24 | 5\n",
        "    x = F.relu(x)\n",
        "    x = F.max_pool2d(x, kernel_size=2, stride=2) # 24 | 12 | 10\n",
        "\n",
        "    # conv2 layer\n",
        "    x = self.conv3(x) #12 | 10 | 12\n",
        "    x = F.relu(x)\n",
        "    x = F.max_pool2d(x, kernel_size=2, stride=2) # 10 | 5 | 32 >> 32x5x5\n",
        "    #print(x.shape)\n",
        "    # reshape\n",
        "    x = x.reshape(-1, 800) #800\n",
        "    #x=x.unsqueeze(0)\n",
        "    x_rn = t2\n",
        "    #print(x.shape)\n",
        "    # fc_rn layer\n",
        "    x_rn = self.fc_rn(x_rn)\n",
        "    x_rn = F.relu(x_rn)\n",
        "    #x_rn=x_rn.unsqueeze(0)\n",
        "    #print(x_rn.shape)\n",
        "    #concatenate\n",
        "    concat_data=torch.cat((x,x_rn),1) #combined data 820\n",
        "    #print(concat_data.shape)\n",
        "    # fc1 layer\n",
        "    x = self.fc1(concat_data) \n",
        "    x = F.relu(x)\n",
        "\n",
        "    # fc2 layer\n",
        "    x_mnist = self.fc2(x) \n",
        "    out_mnist= F.softmax(x_mnist, dim=1)\n",
        "    #print(x.shape)\n",
        "    # output mnist layer\n",
        "    x_sum = self.out1(x)\n",
        "    out_sum= F.softmax(x_sum, dim=1)\n",
        "    \n",
        "    #out_sum=x[10:]\n",
        "    #output sum value\n",
        "    # x_sum=self.out2(x)\n",
        "    # out_sum=  F.softmax(x_sum, dim=1)\n",
        "    #out_mnist=x[:10]\n",
        "    #out_sum = x[10:]\n",
        "\n",
        "    return out_mnist,out_sum"
      ],
      "metadata": {
        "id": "De62A9Ol-2jz"
      },
      "execution_count": 30,
      "outputs": []
    },
    {
      "cell_type": "code",
      "source": [
        "len(next(iter(train_loader)))"
      ],
      "metadata": {
        "colab": {
          "base_uri": "https://localhost:8080/"
        },
        "id": "MFeajB0GYPvf",
        "outputId": "2478ff6c-b842-4f50-9401-a605169f61dd"
      },
      "execution_count": 31,
      "outputs": [
        {
          "output_type": "execute_result",
          "data": {
            "text/plain": [
              "2"
            ]
          },
          "metadata": {},
          "execution_count": 31
        }
      ]
    },
    {
      "cell_type": "code",
      "source": [
        "random_number=torch.randint(0,9,(1,))"
      ],
      "metadata": {
        "id": "_qDwmentaAyC"
      },
      "execution_count": 32,
      "outputs": []
    },
    {
      "cell_type": "code",
      "source": [
        "random_number=torch.randint(0,9,(1,))\n",
        "random_number=random_number.to(torch.float32)\n",
        "random_number.dtype"
      ],
      "metadata": {
        "colab": {
          "base_uri": "https://localhost:8080/"
        },
        "id": "BZidgA2wcerq",
        "outputId": "f287c18a-f54c-4e35-e33b-6105e3251be6"
      },
      "execution_count": 33,
      "outputs": [
        {
          "output_type": "execute_result",
          "data": {
            "text/plain": [
              "torch.float32"
            ]
          },
          "metadata": {},
          "execution_count": 33
        }
      ]
    },
    {
      "cell_type": "code",
      "source": [
        "# random_number=F.one_hot(random_number,num_classes=10)\n",
        "# random_number.dtype"
      ],
      "metadata": {
        "id": "B7bCXbQGZal4"
      },
      "execution_count": 34,
      "outputs": []
    },
    {
      "cell_type": "code",
      "source": [
        "# random_number=random_number.to(torch.float32)\n",
        "# random_number.dtype"
      ],
      "metadata": {
        "id": "yZ9UF2RkdKVt"
      },
      "execution_count": 35,
      "outputs": []
    },
    {
      "cell_type": "code",
      "source": [
        "images, labels = batch\n",
        "images.dtype"
      ],
      "metadata": {
        "colab": {
          "base_uri": "https://localhost:8080/"
        },
        "id": "8T4FCpeCa36B",
        "outputId": "96bf0343-c1c9-4a3e-bb46-58147605072c"
      },
      "execution_count": 36,
      "outputs": [
        {
          "output_type": "execute_result",
          "data": {
            "text/plain": [
              "torch.float32"
            ]
          },
          "metadata": {},
          "execution_count": 36
        }
      ]
    },
    {
      "cell_type": "code",
      "source": [
        "network = Network()\n",
        "batch_size=2\n",
        "train_loader = torch.utils.data.DataLoader(train_set, batch_size=2)\n",
        "optimizer = optim.Adam(network.parameters(), lr=0.01)\n",
        "\n",
        "batch = next(iter(train_loader)) # Get Batch\n",
        "images, label1 = batch\n",
        "random_number=torch.randint(0,9,(batch_size,))\n",
        "label2 = random_number + label1\n",
        "random_number=F.one_hot(random_number,num_classes=10)\n",
        "random_number=random_number.squeeze().to(torch.float32)\n",
        "\n",
        "print(\"label1\",label1)\n",
        "print(\"label2\",label2)\n",
        "print(random_number.shape)\n",
        "#random_number= F.one_hot(random_number,num_classes=10)\n",
        "preds1,preds2 = network(images,random_number)\n",
        "#print(\"preds\",preds1,preds2)\n",
        "print(label1.shape,label2.shape)\n",
        "loss1 = F.cross_entropy(preds1, label1) # Calculate Loss\n",
        "\n",
        "loss1.backward() # Calculate Gradients\n",
        "optimizer.step() # Update Weights\n",
        "\n",
        "print('loss1:', loss1.item())\n",
        "\n",
        "loss2 = F.cross_entropy(preds2, label2) # Calculate Loss\n",
        "#loss2.backward() # Calculate Gradients\n",
        "#optimizer.step() \n",
        "\n",
        "print('loss2:', loss2.item())"
      ],
      "metadata": {
        "colab": {
          "base_uri": "https://localhost:8080/"
        },
        "id": "PM65JPsv-2ly",
        "outputId": "385f559a-7668-4eed-bffe-bd216a43b385"
      },
      "execution_count": 37,
      "outputs": [
        {
          "output_type": "stream",
          "name": "stdout",
          "text": [
            "label1 tensor([5, 0])\n",
            "label2 tensor([9, 2])\n",
            "torch.Size([2, 10])\n",
            "torch.Size([2]) torch.Size([2])\n",
            "loss1: 2.301504135131836\n",
            "loss2: 2.943063259124756\n"
          ]
        }
      ]
    },
    {
      "cell_type": "code",
      "source": [
        "torch.set_grad_enabled(True)"
      ],
      "metadata": {
        "colab": {
          "base_uri": "https://localhost:8080/"
        },
        "id": "OQxV9GDk-yCJ",
        "outputId": "c480afa7-4069-4de3-d3d2-d080afe95525"
      },
      "execution_count": 38,
      "outputs": [
        {
          "output_type": "execute_result",
          "data": {
            "text/plain": [
              "<torch.autograd.grad_mode.set_grad_enabled at 0x7f078822ae50>"
            ]
          },
          "metadata": {},
          "execution_count": 38
        }
      ]
    },
    {
      "cell_type": "code",
      "source": [],
      "metadata": {
        "id": "9m5CVxe4lw87"
      },
      "execution_count": 38,
      "outputs": []
    },
    {
      "cell_type": "code",
      "source": [
        "def get_num_correct(preds, labels):\n",
        "  return preds.argmax(dim=1).eq(labels).sum().item()"
      ],
      "metadata": {
        "id": "9alVCuDwt0B1"
      },
      "execution_count": 39,
      "outputs": []
    },
    {
      "cell_type": "code",
      "source": [
        "train_set.train_labels"
      ],
      "metadata": {
        "id": "9hhWGeW7t0FU",
        "colab": {
          "base_uri": "https://localhost:8080/"
        },
        "outputId": "ad681e2f-1743-447e-eb77-63b6c838cb26"
      },
      "execution_count": 40,
      "outputs": [
        {
          "output_type": "stream",
          "name": "stderr",
          "text": [
            "/usr/local/lib/python3.8/dist-packages/torchvision/datasets/mnist.py:65: UserWarning: train_labels has been renamed targets\n",
            "  warnings.warn(\"train_labels has been renamed targets\")\n"
          ]
        },
        {
          "output_type": "execute_result",
          "data": {
            "text/plain": [
              "tensor([5, 0, 4,  ..., 5, 6, 8])"
            ]
          },
          "metadata": {},
          "execution_count": 40
        }
      ]
    },
    {
      "cell_type": "code",
      "source": [
        "network = Network()\n",
        "batch_size=100\n",
        "train_loader = torch.utils.data.DataLoader(train_set, batch_size=100)\n",
        "optimizer = optim.Adam(network.parameters(), lr=0.01)\n",
        "\n",
        "\n",
        "for epoch in range(10):\n",
        "      total_loss1 = 0\n",
        "      total_correct1 = 0\n",
        "      total_loss2 = 0\n",
        "      total_correct2 = 0\n",
        "      for batch in train_loader: # Get Batch\n",
        "          images, label1 = batch\n",
        "          random_number=torch.randint(0,9,(batch_size,))\n",
        "          label2 = random_number + label1\n",
        "          random_number=F.one_hot(random_number,num_classes=10)\n",
        "          random_number=random_number.squeeze().to(torch.float32)\n",
        "          preds1,preds2 = network(images,random_number)\n",
        "\n",
        "          #random_number= F.one_hot(random_number,num_classes=10)\n",
        "          loss1 = F.cross_entropy(preds1, label1) # Calculate Loss\n",
        "          #print(preds2.shape)\n",
        "          optimizer.zero_grad()\n",
        "          loss1.backward() # Calculate Gradients\n",
        "          optimizer.step()\n",
        "          # Update Weights\n",
        "          #print('loss1:', loss1.item())\n",
        "\n",
        "          # print(preds1,preds2)\n",
        "          # loss1= F.cross_entropy(preds1, label1)\n",
        "          # loss2= F.cross_entropy(preds2, label2)\n",
        "          # print('loss2:', loss.item())\n",
        "          #loss2 = F.cross_entropy(preds2, label2)\n",
        "          #loss2.backward() # Calculate Gradients\n",
        "          #optimizer.step() # Calculate Loss\n",
        "          total_loss1 += loss1.item()\n",
        "          total_correct1 += get_num_correct(preds1, label1)\n",
        "          total_loss2 += loss2.item()\n",
        "          total_correct2 += get_num_correct(preds2, label2)\n",
        "\n",
        "          #print('loss2:', loss2.item())\n",
        "      print(\n",
        "      \"epoch:\", epoch, \n",
        "      \"total_correct1:\", total_correct1, \n",
        "      \"loss1:\", total_loss1,\n",
        "      \"total_correct2:\", total_correct2, \n",
        "      \"loss2:\", total_loss2\n",
        "      )"
      ],
      "metadata": {
        "colab": {
          "base_uri": "https://localhost:8080/"
        },
        "id": "GMOFcod0-yEv",
        "outputId": "10a70625-79c6-426d-8a4e-b1677613a618"
      },
      "execution_count": 41,
      "outputs": [
        {
          "output_type": "stream",
          "name": "stdout",
          "text": [
            "epoch: 0 total_correct1: 39241 loss1: 1083.586814403534 total_correct2: 2731 loss2: 1765.8379554748535\n",
            "epoch: 1 total_correct1: 40916 loss1: 1067.485326051712 total_correct2: 3177 loss2: 1765.8379554748535\n",
            "epoch: 2 total_correct1: 40316 loss1: 1073.5331060886383 total_correct2: 2074 loss2: 1765.8379554748535\n",
            "epoch: 3 total_correct1: 37334 loss1: 1103.3464277982712 total_correct2: 2914 loss2: 1765.8379554748535\n",
            "epoch: 4 total_correct1: 30718 loss1: 1169.5091062784195 total_correct2: 2813 loss2: 1765.8379554748535\n",
            "epoch: 5 total_correct1: 37283 loss1: 1103.8557348251343 total_correct2: 2555 loss2: 1765.8379554748535\n",
            "epoch: 6 total_correct1: 36352 loss1: 1113.161726117134 total_correct2: 2231 loss2: 1765.8379554748535\n",
            "epoch: 7 total_correct1: 38629 loss1: 1090.395642399788 total_correct2: 2565 loss2: 1765.8379554748535\n",
            "epoch: 8 total_correct1: 41962 loss1: 1057.06600856781 total_correct2: 3087 loss2: 1765.8379554748535\n",
            "epoch: 9 total_correct1: 41694 loss1: 1059.7482888698578 total_correct2: 3140 loss2: 1765.8379554748535\n"
          ]
        }
      ]
    },
    {
      "cell_type": "code",
      "source": [
        "# train_loader = torch.utils.data.DataLoader(train_set, batch_size=100)\n",
        "# optimizer = optim.Adam(network.parameters(), lr=0.01)\n",
        "\n",
        "# for epoch in range(10):\n",
        "\n",
        "#     total_loss = 0\n",
        "#     total_correct = 0\n",
        "\n",
        "#     for batch in train_loader: # Get Batch\n",
        "#         images, labels = batch \n",
        "\n",
        "#         preds = network(images) # Pass Batch\n",
        "#         loss = F.cross_entropy(preds, labels) # Calculate Loss\n",
        "\n",
        "#         optimizer.zero_grad()\n",
        "#         loss.backward() # Calculate Gradients\n",
        "#         optimizer.step() # Update Weights\n",
        "\n",
        "#         total_loss += loss.item()\n",
        "#         total_correct += get_num_correct(preds, labels)\n",
        "\n",
        "#     print(\n",
        "#         \"epoch\", epoch, \n",
        "#         \"total_correct:\", total_correct, \n",
        "#         \"loss:\", total_loss\n",
        "#     )"
      ],
      "metadata": {
        "id": "p1lZ88Xg-yIL"
      },
      "execution_count": null,
      "outputs": []
    },
    {
      "cell_type": "code",
      "source": [],
      "metadata": {
        "id": "mvw7StFo_n-X"
      },
      "execution_count": null,
      "outputs": []
    },
    {
      "cell_type": "code",
      "source": [],
      "metadata": {
        "id": "0Cqgx_Rt_oBG"
      },
      "execution_count": null,
      "outputs": []
    },
    {
      "cell_type": "code",
      "source": [],
      "metadata": {
        "id": "nGvb3poG_oEl"
      },
      "execution_count": null,
      "outputs": []
    },
    {
      "cell_type": "markdown",
      "source": [],
      "metadata": {
        "id": "CeYforij_ohc"
      }
    },
    {
      "cell_type": "code",
      "source": [],
      "metadata": {
        "id": "UtAcvWlo_pSl"
      },
      "execution_count": null,
      "outputs": []
    }
  ]
}